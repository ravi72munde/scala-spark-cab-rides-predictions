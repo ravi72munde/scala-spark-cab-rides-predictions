{
  "nbformat": 4,
  "nbformat_minor": 0,
  "metadata": {
    "colab": {
      "name": "Cab Price Prediction.ipynb",
      "version": "0.3.2",
      "provenance": [],
      "include_colab_link": true
    },
    "kernelspec": {
      "name": "python3",
      "display_name": "Python 3"
    },
    "accelerator": "GPU"
  },
  "cells": [
    {
      "cell_type": "markdown",
      "metadata": {
        "id": "view-in-github",
        "colab_type": "text"
      },
      "source": [
        "<a href=\"https://colab.research.google.com/github/ravi72munde/scala-spark-cab-rides-predictions/blob/Ravi/Cab_Price_Prediction.ipynb\" target=\"_parent\"><img src=\"https://colab.research.google.com/assets/colab-badge.svg\" alt=\"Open In Colab\"/></a>"
      ]
    },
    {
      "metadata": {
        "id": "D8MbqoPg8FNG",
        "colab_type": "code",
        "colab": {}
      },
      "cell_type": "code",
      "source": [
        "import pandas as pd"
      ],
      "execution_count": 0,
      "outputs": []
    },
    {
      "metadata": {
        "id": "dQBIKofsTivy",
        "colab_type": "text"
      },
      "cell_type": "markdown",
      "source": [
        "### Download Data from Dynamodb into csv for offline analysis"
      ]
    },
    {
      "metadata": {
        "id": "kXDbdsLr91ft",
        "colab_type": "code",
        "colab": {}
      },
      "cell_type": "code",
      "source": [
        "cab_df = pd.read_csv(\"./cab_rides.txt\",delimiter='\\t',encoding = \"utf-8\")\n",
        "weather_df = pd.read_csv(\"./weather.csv\")"
      ],
      "execution_count": 0,
      "outputs": []
    },
    {
      "metadata": {
        "id": "Hthonxgy92dv",
        "colab_type": "code",
        "outputId": "fc40770d-6d31-4c43-f669-9a9d18338c00",
        "colab": {
          "base_uri": "https://localhost:8080/",
          "height": 306
        }
      },
      "cell_type": "code",
      "source": [
        "cab_df['date_time'] = pd.to_datetime(cab_df['time_stamp']/1000, unit='s')\n",
        "weather_df['date_time'] = pd.to_datetime(weather_df['time_stamp'], unit='s')\n",
        "cab_df.head()"
      ],
      "execution_count": 0,
      "outputs": [
        {
          "output_type": "execute_result",
          "data": {
            "text/html": [
              "<div>\n",
              "<style scoped>\n",
              "    .dataframe tbody tr th:only-of-type {\n",
              "        vertical-align: middle;\n",
              "    }\n",
              "\n",
              "    .dataframe tbody tr th {\n",
              "        vertical-align: top;\n",
              "    }\n",
              "\n",
              "    .dataframe thead th {\n",
              "        text-align: right;\n",
              "    }\n",
              "</style>\n",
              "<table border=\"1\" class=\"dataframe\">\n",
              "  <thead>\n",
              "    <tr style=\"text-align: right;\">\n",
              "      <th></th>\n",
              "      <th>distance</th>\n",
              "      <th>cab_type</th>\n",
              "      <th>time_stamp</th>\n",
              "      <th>destination</th>\n",
              "      <th>source</th>\n",
              "      <th>price</th>\n",
              "      <th>surge_multiplier</th>\n",
              "      <th>id</th>\n",
              "      <th>product_id</th>\n",
              "      <th>name</th>\n",
              "      <th>date_time</th>\n",
              "    </tr>\n",
              "  </thead>\n",
              "  <tbody>\n",
              "    <tr>\n",
              "      <th>0</th>\n",
              "      <td>1.08</td>\n",
              "      <td>Lyft</td>\n",
              "      <td>1.543280e+12</td>\n",
              "      <td>Northeastern University</td>\n",
              "      <td>Back Bay</td>\n",
              "      <td>10.5</td>\n",
              "      <td>1.0</td>\n",
              "      <td>462816a3-820d-408b-8549-0b39e82f65ac</td>\n",
              "      <td>lyft_plus</td>\n",
              "      <td>Lyft XL</td>\n",
              "      <td>2018-11-27 00:53:20</td>\n",
              "    </tr>\n",
              "    <tr>\n",
              "      <th>1</th>\n",
              "      <td>1.08</td>\n",
              "      <td>Lyft</td>\n",
              "      <td>1.543280e+12</td>\n",
              "      <td>Northeastern University</td>\n",
              "      <td>Back Bay</td>\n",
              "      <td>16.5</td>\n",
              "      <td>1.0</td>\n",
              "      <td>474d6376-bc59-4ec9-bf57-4e6d6faeb165</td>\n",
              "      <td>lyft_lux</td>\n",
              "      <td>Lux Black</td>\n",
              "      <td>2018-11-27 00:53:20</td>\n",
              "    </tr>\n",
              "    <tr>\n",
              "      <th>2</th>\n",
              "      <td>1.08</td>\n",
              "      <td>Lyft</td>\n",
              "      <td>1.543280e+12</td>\n",
              "      <td>Northeastern University</td>\n",
              "      <td>Back Bay</td>\n",
              "      <td>3.0</td>\n",
              "      <td>1.0</td>\n",
              "      <td>4f9fee41-fde3-4767-bbf1-a00e108701fb</td>\n",
              "      <td>lyft_line</td>\n",
              "      <td>Shared</td>\n",
              "      <td>2018-11-27 00:53:20</td>\n",
              "    </tr>\n",
              "    <tr>\n",
              "      <th>3</th>\n",
              "      <td>1.08</td>\n",
              "      <td>Lyft</td>\n",
              "      <td>1.543280e+12</td>\n",
              "      <td>Northeastern University</td>\n",
              "      <td>Back Bay</td>\n",
              "      <td>27.5</td>\n",
              "      <td>1.0</td>\n",
              "      <td>8612d909-98b8-4454-a093-30bd48de0cb3</td>\n",
              "      <td>lyft_luxsuv</td>\n",
              "      <td>Lux Black XL</td>\n",
              "      <td>2018-11-27 00:53:20</td>\n",
              "    </tr>\n",
              "    <tr>\n",
              "      <th>4</th>\n",
              "      <td>1.08</td>\n",
              "      <td>Lyft</td>\n",
              "      <td>1.543280e+12</td>\n",
              "      <td>Northeastern University</td>\n",
              "      <td>Back Bay</td>\n",
              "      <td>13.5</td>\n",
              "      <td>1.0</td>\n",
              "      <td>9043bf77-1d45-4a93-9520-a083e0277f16</td>\n",
              "      <td>lyft_premier</td>\n",
              "      <td>Lux</td>\n",
              "      <td>2018-11-27 00:53:20</td>\n",
              "    </tr>\n",
              "  </tbody>\n",
              "</table>\n",
              "</div>"
            ],
            "text/plain": [
              "   distance cab_type    time_stamp              destination    source  price  \\\n",
              "0      1.08     Lyft  1.543280e+12  Northeastern University  Back Bay   10.5   \n",
              "1      1.08     Lyft  1.543280e+12  Northeastern University  Back Bay   16.5   \n",
              "2      1.08     Lyft  1.543280e+12  Northeastern University  Back Bay    3.0   \n",
              "3      1.08     Lyft  1.543280e+12  Northeastern University  Back Bay   27.5   \n",
              "4      1.08     Lyft  1.543280e+12  Northeastern University  Back Bay   13.5   \n",
              "\n",
              "   surge_multiplier                                    id    product_id  \\\n",
              "0               1.0  462816a3-820d-408b-8549-0b39e82f65ac     lyft_plus   \n",
              "1               1.0  474d6376-bc59-4ec9-bf57-4e6d6faeb165      lyft_lux   \n",
              "2               1.0  4f9fee41-fde3-4767-bbf1-a00e108701fb     lyft_line   \n",
              "3               1.0  8612d909-98b8-4454-a093-30bd48de0cb3   lyft_luxsuv   \n",
              "4               1.0  9043bf77-1d45-4a93-9520-a083e0277f16  lyft_premier   \n",
              "\n",
              "           name           date_time  \n",
              "0       Lyft XL 2018-11-27 00:53:20  \n",
              "1     Lux Black 2018-11-27 00:53:20  \n",
              "2        Shared 2018-11-27 00:53:20  \n",
              "3  Lux Black XL 2018-11-27 00:53:20  \n",
              "4           Lux 2018-11-27 00:53:20  "
            ]
          },
          "metadata": {
            "tags": []
          },
          "execution_count": 3
        }
      ]
    },
    {
      "metadata": {
        "id": "yVA22Tow93tS",
        "colab_type": "code",
        "colab": {}
      },
      "cell_type": "code",
      "source": [
        "#merge the datasets to refelect same time for a location\n",
        "cab_df['merge_date'] = cab_df.source.astype(str) +\" - \"+ cab_df.date_time.dt.date.astype(\"str\") +\" - \"+ cab_df.date_time.dt.hour.astype(\"str\")\n",
        "weather_df['merge_date'] = weather_df.location.astype(str) +\" - \"+ weather_df.date_time.dt.date.astype(\"str\") +\" - \"+ weather_df.date_time.dt.hour.astype(\"str\")"
      ],
      "execution_count": 0,
      "outputs": []
    },
    {
      "metadata": {
        "id": "KqZ4F2Ip-Ddm",
        "colab_type": "code",
        "colab": {}
      },
      "cell_type": "code",
      "source": [
        "weather_df.index = weather_df['merge_date']"
      ],
      "execution_count": 0,
      "outputs": []
    },
    {
      "metadata": {
        "id": "sB9F2_-q-D4j",
        "colab_type": "code",
        "outputId": "49339914-1d96-4d2f-8a21-91fb717c9964",
        "colab": {
          "base_uri": "https://localhost:8080/",
          "height": 375
        }
      },
      "cell_type": "code",
      "source": [
        "cab_df.head()"
      ],
      "execution_count": 0,
      "outputs": [
        {
          "output_type": "execute_result",
          "data": {
            "text/html": [
              "<div>\n",
              "<style scoped>\n",
              "    .dataframe tbody tr th:only-of-type {\n",
              "        vertical-align: middle;\n",
              "    }\n",
              "\n",
              "    .dataframe tbody tr th {\n",
              "        vertical-align: top;\n",
              "    }\n",
              "\n",
              "    .dataframe thead th {\n",
              "        text-align: right;\n",
              "    }\n",
              "</style>\n",
              "<table border=\"1\" class=\"dataframe\">\n",
              "  <thead>\n",
              "    <tr style=\"text-align: right;\">\n",
              "      <th></th>\n",
              "      <th>distance</th>\n",
              "      <th>cab_type</th>\n",
              "      <th>time_stamp</th>\n",
              "      <th>destination</th>\n",
              "      <th>source</th>\n",
              "      <th>price</th>\n",
              "      <th>surge_multiplier</th>\n",
              "      <th>id</th>\n",
              "      <th>product_id</th>\n",
              "      <th>name</th>\n",
              "      <th>date_time</th>\n",
              "      <th>merge_date</th>\n",
              "    </tr>\n",
              "  </thead>\n",
              "  <tbody>\n",
              "    <tr>\n",
              "      <th>0</th>\n",
              "      <td>1.08</td>\n",
              "      <td>Lyft</td>\n",
              "      <td>1.543280e+12</td>\n",
              "      <td>Northeastern University</td>\n",
              "      <td>Back Bay</td>\n",
              "      <td>10.5</td>\n",
              "      <td>1.0</td>\n",
              "      <td>462816a3-820d-408b-8549-0b39e82f65ac</td>\n",
              "      <td>lyft_plus</td>\n",
              "      <td>Lyft XL</td>\n",
              "      <td>2018-11-27 00:53:20</td>\n",
              "      <td>Back Bay - 2018-11-27 - 0</td>\n",
              "    </tr>\n",
              "    <tr>\n",
              "      <th>1</th>\n",
              "      <td>1.08</td>\n",
              "      <td>Lyft</td>\n",
              "      <td>1.543280e+12</td>\n",
              "      <td>Northeastern University</td>\n",
              "      <td>Back Bay</td>\n",
              "      <td>16.5</td>\n",
              "      <td>1.0</td>\n",
              "      <td>474d6376-bc59-4ec9-bf57-4e6d6faeb165</td>\n",
              "      <td>lyft_lux</td>\n",
              "      <td>Lux Black</td>\n",
              "      <td>2018-11-27 00:53:20</td>\n",
              "      <td>Back Bay - 2018-11-27 - 0</td>\n",
              "    </tr>\n",
              "    <tr>\n",
              "      <th>2</th>\n",
              "      <td>1.08</td>\n",
              "      <td>Lyft</td>\n",
              "      <td>1.543280e+12</td>\n",
              "      <td>Northeastern University</td>\n",
              "      <td>Back Bay</td>\n",
              "      <td>3.0</td>\n",
              "      <td>1.0</td>\n",
              "      <td>4f9fee41-fde3-4767-bbf1-a00e108701fb</td>\n",
              "      <td>lyft_line</td>\n",
              "      <td>Shared</td>\n",
              "      <td>2018-11-27 00:53:20</td>\n",
              "      <td>Back Bay - 2018-11-27 - 0</td>\n",
              "    </tr>\n",
              "    <tr>\n",
              "      <th>3</th>\n",
              "      <td>1.08</td>\n",
              "      <td>Lyft</td>\n",
              "      <td>1.543280e+12</td>\n",
              "      <td>Northeastern University</td>\n",
              "      <td>Back Bay</td>\n",
              "      <td>27.5</td>\n",
              "      <td>1.0</td>\n",
              "      <td>8612d909-98b8-4454-a093-30bd48de0cb3</td>\n",
              "      <td>lyft_luxsuv</td>\n",
              "      <td>Lux Black XL</td>\n",
              "      <td>2018-11-27 00:53:20</td>\n",
              "      <td>Back Bay - 2018-11-27 - 0</td>\n",
              "    </tr>\n",
              "    <tr>\n",
              "      <th>4</th>\n",
              "      <td>1.08</td>\n",
              "      <td>Lyft</td>\n",
              "      <td>1.543280e+12</td>\n",
              "      <td>Northeastern University</td>\n",
              "      <td>Back Bay</td>\n",
              "      <td>13.5</td>\n",
              "      <td>1.0</td>\n",
              "      <td>9043bf77-1d45-4a93-9520-a083e0277f16</td>\n",
              "      <td>lyft_premier</td>\n",
              "      <td>Lux</td>\n",
              "      <td>2018-11-27 00:53:20</td>\n",
              "      <td>Back Bay - 2018-11-27 - 0</td>\n",
              "    </tr>\n",
              "  </tbody>\n",
              "</table>\n",
              "</div>"
            ],
            "text/plain": [
              "   distance cab_type    time_stamp              destination    source  price  \\\n",
              "0      1.08     Lyft  1.543280e+12  Northeastern University  Back Bay   10.5   \n",
              "1      1.08     Lyft  1.543280e+12  Northeastern University  Back Bay   16.5   \n",
              "2      1.08     Lyft  1.543280e+12  Northeastern University  Back Bay    3.0   \n",
              "3      1.08     Lyft  1.543280e+12  Northeastern University  Back Bay   27.5   \n",
              "4      1.08     Lyft  1.543280e+12  Northeastern University  Back Bay   13.5   \n",
              "\n",
              "   surge_multiplier                                    id    product_id  \\\n",
              "0               1.0  462816a3-820d-408b-8549-0b39e82f65ac     lyft_plus   \n",
              "1               1.0  474d6376-bc59-4ec9-bf57-4e6d6faeb165      lyft_lux   \n",
              "2               1.0  4f9fee41-fde3-4767-bbf1-a00e108701fb     lyft_line   \n",
              "3               1.0  8612d909-98b8-4454-a093-30bd48de0cb3   lyft_luxsuv   \n",
              "4               1.0  9043bf77-1d45-4a93-9520-a083e0277f16  lyft_premier   \n",
              "\n",
              "           name           date_time                 merge_date  \n",
              "0       Lyft XL 2018-11-27 00:53:20  Back Bay - 2018-11-27 - 0  \n",
              "1     Lux Black 2018-11-27 00:53:20  Back Bay - 2018-11-27 - 0  \n",
              "2        Shared 2018-11-27 00:53:20  Back Bay - 2018-11-27 - 0  \n",
              "3  Lux Black XL 2018-11-27 00:53:20  Back Bay - 2018-11-27 - 0  \n",
              "4           Lux 2018-11-27 00:53:20  Back Bay - 2018-11-27 - 0  "
            ]
          },
          "metadata": {
            "tags": []
          },
          "execution_count": 7
        }
      ]
    },
    {
      "metadata": {
        "id": "sd0VrZr3-E_8",
        "colab_type": "code",
        "colab": {}
      },
      "cell_type": "code",
      "source": [
        "merged_df = cab_df.join(weather_df,on=['merge_date'],rsuffix ='_w')"
      ],
      "execution_count": 0,
      "outputs": []
    },
    {
      "metadata": {
        "id": "7wSBr30X-HRZ",
        "colab_type": "code",
        "colab": {}
      },
      "cell_type": "code",
      "source": [
        "merged_df['rain'].fillna(0,inplace=True)"
      ],
      "execution_count": 0,
      "outputs": []
    },
    {
      "metadata": {
        "id": "Fu53tQiC-ISF",
        "colab_type": "code",
        "colab": {}
      },
      "cell_type": "code",
      "source": [
        "merged_df = merged_df[pd.notnull(merged_df['date_time_w'])]"
      ],
      "execution_count": 0,
      "outputs": []
    },
    {
      "metadata": {
        "id": "nXpNbtSe-LX4",
        "colab_type": "code",
        "colab": {}
      },
      "cell_type": "code",
      "source": [
        "merged_df = merged_df[pd.notnull(merged_df['price'])]"
      ],
      "execution_count": 0,
      "outputs": []
    },
    {
      "metadata": {
        "id": "uMH-PD_k-MhS",
        "colab_type": "code",
        "colab": {}
      },
      "cell_type": "code",
      "source": [
        "merged_df['day'] = merged_df.date_time.dt.dayofweek"
      ],
      "execution_count": 0,
      "outputs": []
    },
    {
      "metadata": {
        "id": "AF86jDYF-5Nr",
        "colab_type": "code",
        "colab": {}
      },
      "cell_type": "code",
      "source": [
        "merged_df['hour'] = merged_df.date_time.dt.hour"
      ],
      "execution_count": 0,
      "outputs": []
    },
    {
      "metadata": {
        "id": "KnyZFNSN-bLC",
        "colab_type": "code",
        "outputId": "5faeec29-d43b-4f54-f395-03b718c1e72b",
        "colab": {
          "base_uri": "https://localhost:8080/",
          "height": 173
        }
      },
      "cell_type": "code",
      "source": [
        "merged_df['day'].describe()"
      ],
      "execution_count": 0,
      "outputs": [
        {
          "output_type": "execute_result",
          "data": {
            "text/plain": [
              "count    920481.000000\n",
              "mean          2.184254\n",
              "std           1.568638\n",
              "min           0.000000\n",
              "25%           1.000000\n",
              "50%           2.000000\n",
              "75%           3.000000\n",
              "max           6.000000\n",
              "Name: day, dtype: float64"
            ]
          },
          "metadata": {
            "tags": []
          },
          "execution_count": 14
        }
      ]
    },
    {
      "metadata": {
        "id": "aosPlqKZ-c93",
        "colab_type": "code",
        "outputId": "5b242c19-a4bf-4f4b-bfdd-dab6a7d640e3",
        "colab": {
          "base_uri": "https://localhost:8080/",
          "height": 121
        }
      },
      "cell_type": "code",
      "source": [
        "merged_df.columns"
      ],
      "execution_count": 0,
      "outputs": [
        {
          "output_type": "execute_result",
          "data": {
            "text/plain": [
              "Index(['distance', 'cab_type', 'time_stamp', 'destination', 'source', 'price',\n",
              "       'surge_multiplier', 'id', 'product_id', 'name', 'date_time',\n",
              "       'merge_date', 'temp', 'location', 'clouds', 'pressure', 'time_stamp_w',\n",
              "       'humidity', 'wind', 'rain', 'date_time_w', 'merge_date_w', 'day',\n",
              "       'hour'],\n",
              "      dtype='object')"
            ]
          },
          "metadata": {
            "tags": []
          },
          "execution_count": 15
        }
      ]
    },
    {
      "metadata": {
        "id": "DVvty2sN_3kR",
        "colab_type": "code",
        "outputId": "ad32944d-3f77-47cb-8266-fee834de3c64",
        "colab": {
          "base_uri": "https://localhost:8080/",
          "height": 451
        }
      },
      "cell_type": "code",
      "source": [
        "merged_df.count()"
      ],
      "execution_count": 0,
      "outputs": [
        {
          "output_type": "execute_result",
          "data": {
            "text/plain": [
              "distance            920481\n",
              "cab_type            920481\n",
              "time_stamp          920481\n",
              "destination         920481\n",
              "source              920481\n",
              "price               920481\n",
              "surge_multiplier    920481\n",
              "id                  920481\n",
              "product_id          920481\n",
              "name                920481\n",
              "date_time           920481\n",
              "merge_date          920481\n",
              "temp                920481\n",
              "location            920481\n",
              "clouds              920481\n",
              "pressure            920481\n",
              "time_stamp_w        920481\n",
              "humidity            920481\n",
              "wind                920481\n",
              "rain                920481\n",
              "date_time_w         920481\n",
              "merge_date_w        920481\n",
              "day                 920481\n",
              "hour                920481\n",
              "dtype: int64"
            ]
          },
          "metadata": {
            "tags": []
          },
          "execution_count": 17
        }
      ]
    },
    {
      "metadata": {
        "id": "qYde3J9z-0pF",
        "colab_type": "code",
        "colab": {}
      },
      "cell_type": "code",
      "source": [
        "X = merged_df[merged_df.product_id=='lyft_line'][['day','distance','hour','temp','clouds', 'pressure','humidity', 'wind', 'rain']]"
      ],
      "execution_count": 0,
      "outputs": []
    },
    {
      "metadata": {
        "id": "1lFCZYGoAez5",
        "colab_type": "code",
        "outputId": "a3fe9d09-60f0-4515-8a98-44bbc96740e8",
        "colab": {
          "base_uri": "https://localhost:8080/",
          "height": 191
        }
      },
      "cell_type": "code",
      "source": [
        "X.count()"
      ],
      "execution_count": 0,
      "outputs": [
        {
          "output_type": "execute_result",
          "data": {
            "text/plain": [
              "day         70966\n",
              "distance    70966\n",
              "hour        70966\n",
              "temp        70966\n",
              "clouds      70966\n",
              "pressure    70966\n",
              "humidity    70966\n",
              "wind        70966\n",
              "rain        70966\n",
              "dtype: int64"
            ]
          },
          "metadata": {
            "tags": []
          },
          "execution_count": 559
        }
      ]
    },
    {
      "metadata": {
        "id": "3jwsqfWn-NkZ",
        "colab_type": "code",
        "colab": {}
      },
      "cell_type": "code",
      "source": [
        "y = merged_df['price'] "
      ],
      "execution_count": 0,
      "outputs": []
    },
    {
      "metadata": {
        "id": "uYyi_4aUBHlT",
        "colab_type": "code",
        "outputId": "3f90c77b-fcc3-409f-e48e-511cba0aa028",
        "colab": {
          "base_uri": "https://localhost:8080/",
          "height": 35
        }
      },
      "cell_type": "code",
      "source": [
        "y.count()"
      ],
      "execution_count": 0,
      "outputs": [
        {
          "output_type": "execute_result",
          "data": {
            "text/plain": [
              "70966"
            ]
          },
          "metadata": {
            "tags": []
          },
          "execution_count": 527
        }
      ]
    },
    {
      "metadata": {
        "id": "dHkdZAZP-2Kz",
        "colab_type": "code",
        "colab": {}
      },
      "cell_type": "code",
      "source": [
        "X.reset_index(inplace=True)\n",
        "X = X.drop(columns=['index'])"
      ],
      "execution_count": 0,
      "outputs": []
    },
    {
      "metadata": {
        "id": "XuXmWXBZ-9lf",
        "colab_type": "code",
        "outputId": "b45062f9-1b43-4beb-bccc-e2fa31ab7ba4",
        "colab": {
          "base_uri": "https://localhost:8080/",
          "height": 202
        }
      },
      "cell_type": "code",
      "source": [
        "X.head()"
      ],
      "execution_count": 0,
      "outputs": [
        {
          "output_type": "execute_result",
          "data": {
            "text/html": [
              "<div>\n",
              "<style scoped>\n",
              "    .dataframe tbody tr th:only-of-type {\n",
              "        vertical-align: middle;\n",
              "    }\n",
              "\n",
              "    .dataframe tbody tr th {\n",
              "        vertical-align: top;\n",
              "    }\n",
              "\n",
              "    .dataframe thead th {\n",
              "        text-align: right;\n",
              "    }\n",
              "</style>\n",
              "<table border=\"1\" class=\"dataframe\">\n",
              "  <thead>\n",
              "    <tr style=\"text-align: right;\">\n",
              "      <th></th>\n",
              "      <th>day</th>\n",
              "      <th>distance</th>\n",
              "      <th>hour</th>\n",
              "      <th>temp</th>\n",
              "      <th>clouds</th>\n",
              "      <th>pressure</th>\n",
              "      <th>humidity</th>\n",
              "      <th>wind</th>\n",
              "      <th>rain</th>\n",
              "    </tr>\n",
              "  </thead>\n",
              "  <tbody>\n",
              "    <tr>\n",
              "      <th>0</th>\n",
              "      <td>1</td>\n",
              "      <td>1.08</td>\n",
              "      <td>0</td>\n",
              "      <td>43.96</td>\n",
              "      <td>1.00</td>\n",
              "      <td>1006.26</td>\n",
              "      <td>0.90</td>\n",
              "      <td>9.86</td>\n",
              "      <td>0.0497</td>\n",
              "    </tr>\n",
              "    <tr>\n",
              "      <th>1</th>\n",
              "      <td>1</td>\n",
              "      <td>1.08</td>\n",
              "      <td>0</td>\n",
              "      <td>43.83</td>\n",
              "      <td>0.97</td>\n",
              "      <td>1005.90</td>\n",
              "      <td>0.91</td>\n",
              "      <td>10.93</td>\n",
              "      <td>0.2173</td>\n",
              "    </tr>\n",
              "    <tr>\n",
              "      <th>2</th>\n",
              "      <td>1</td>\n",
              "      <td>1.08</td>\n",
              "      <td>0</td>\n",
              "      <td>43.82</td>\n",
              "      <td>0.97</td>\n",
              "      <td>1005.87</td>\n",
              "      <td>0.91</td>\n",
              "      <td>11.02</td>\n",
              "      <td>0.2039</td>\n",
              "    </tr>\n",
              "    <tr>\n",
              "      <th>3</th>\n",
              "      <td>1</td>\n",
              "      <td>1.08</td>\n",
              "      <td>0</td>\n",
              "      <td>43.82</td>\n",
              "      <td>0.97</td>\n",
              "      <td>1005.89</td>\n",
              "      <td>0.91</td>\n",
              "      <td>10.94</td>\n",
              "      <td>0.2154</td>\n",
              "    </tr>\n",
              "    <tr>\n",
              "      <th>4</th>\n",
              "      <td>1</td>\n",
              "      <td>1.08</td>\n",
              "      <td>0</td>\n",
              "      <td>43.98</td>\n",
              "      <td>1.00</td>\n",
              "      <td>1006.36</td>\n",
              "      <td>0.90</td>\n",
              "      <td>9.53</td>\n",
              "      <td>0.0358</td>\n",
              "    </tr>\n",
              "  </tbody>\n",
              "</table>\n",
              "</div>"
            ],
            "text/plain": [
              "   day  distance  hour   temp  clouds  pressure  humidity   wind    rain\n",
              "0    1      1.08     0  43.96    1.00   1006.26      0.90   9.86  0.0497\n",
              "1    1      1.08     0  43.83    0.97   1005.90      0.91  10.93  0.2173\n",
              "2    1      1.08     0  43.82    0.97   1005.87      0.91  11.02  0.2039\n",
              "3    1      1.08     0  43.82    0.97   1005.89      0.91  10.94  0.2154\n",
              "4    1      1.08     0  43.98    1.00   1006.36      0.90   9.53  0.0358"
            ]
          },
          "metadata": {
            "tags": []
          },
          "execution_count": 529
        }
      ]
    },
    {
      "metadata": {
        "id": "BLewUmR_-_Wy",
        "colab_type": "code",
        "colab": {}
      },
      "cell_type": "code",
      "source": [
        "features = pd.get_dummies(X)"
      ],
      "execution_count": 0,
      "outputs": []
    },
    {
      "metadata": {
        "id": "QtG02FhT_BXo",
        "colab_type": "code",
        "outputId": "ec14d5d8-2bae-40dd-ce09-d74d3e9afc45",
        "colab": {
          "base_uri": "https://localhost:8080/",
          "height": 69
        }
      },
      "cell_type": "code",
      "source": [
        "features.columns"
      ],
      "execution_count": 0,
      "outputs": [
        {
          "output_type": "execute_result",
          "data": {
            "text/plain": [
              "Index(['day', 'distance', 'hour', 'temp', 'clouds', 'pressure', 'humidity',\n",
              "       'wind', 'rain'],\n",
              "      dtype='object')"
            ]
          },
          "metadata": {
            "tags": []
          },
          "execution_count": 531
        }
      ]
    },
    {
      "metadata": {
        "id": "MjK4mBw8_DF8",
        "colab_type": "code",
        "colab": {}
      },
      "cell_type": "code",
      "source": [
        "# Use numpy to convert to arrays\n",
        "import numpy as np\n",
        "# Labels are the values we want to predict\n",
        "labels = np.array(y)\n",
        "\n",
        "# Saving feature names for later use\n",
        "feature_list = list(features.columns)\n",
        "# Convert to numpy array\n",
        "features = np.array(features)"
      ],
      "execution_count": 0,
      "outputs": []
    },
    {
      "metadata": {
        "id": "BbxSbiey_Eov",
        "colab_type": "code",
        "colab": {}
      },
      "cell_type": "code",
      "source": [
        "# Using Skicit-learn to split data into training and testing sets\n",
        "from sklearn.model_selection import train_test_split\n",
        "# Split the data into training and testing sets\n",
        "train_features, test_features, train_labels, test_labels = train_test_split(features, labels, test_size = 0.25, random_state = 42)"
      ],
      "execution_count": 0,
      "outputs": []
    },
    {
      "metadata": {
        "id": "qmTQGdxy_GWl",
        "colab_type": "code",
        "outputId": "db998872-5657-41d3-a954-a4c9bde46e60",
        "colab": {
          "base_uri": "https://localhost:8080/",
          "height": 87
        }
      },
      "cell_type": "code",
      "source": [
        "print('Training Features Shape:', train_features.shape)\n",
        "print('Training Labels Shape:', train_labels.shape)\n",
        "print('Testing Features Shape:', test_features.shape)\n",
        "print('Testing Labels Shape:', test_labels.shape)"
      ],
      "execution_count": 0,
      "outputs": [
        {
          "output_type": "stream",
          "text": [
            "Training Features Shape: (53224, 9)\n",
            "Training Labels Shape: (53224,)\n",
            "Testing Features Shape: (17742, 9)\n",
            "Testing Labels Shape: (17742,)\n"
          ],
          "name": "stdout"
        }
      ]
    },
    {
      "metadata": {
        "id": "_eaJQ_-2_Z6b",
        "colab_type": "code",
        "colab": {}
      },
      "cell_type": "code",
      "source": [
        ""
      ],
      "execution_count": 0,
      "outputs": []
    },
    {
      "metadata": {
        "id": "opgu_Zoe_HnG",
        "colab_type": "code",
        "colab": {}
      },
      "cell_type": "code",
      "source": [
        "# Import the model we are using\n",
        "from sklearn.ensemble import RandomForestRegressor,RandomForestClassifier\n",
        "# Instantiate model with 1000 decision trees\n",
        "rf = RandomForestRegressor(n_estimators = 1000, random_state = 42)\n",
        "# Train the model on training data\n",
        "rf.fit(train_features, train_labels);"
      ],
      "execution_count": 0,
      "outputs": []
    },
    {
      "metadata": {
        "id": "cMjHk4YL_JDw",
        "colab_type": "code",
        "outputId": "78b9cd5c-9841-4b22-f407-51ccdd56d1d4",
        "colab": {
          "base_uri": "https://localhost:8080/",
          "height": 35
        }
      },
      "cell_type": "code",
      "source": [
        "# Use the forest's predict method on the test data\n",
        "predictions = rf.predict(test_features)\n",
        "# Calculate the absolute errors\n",
        "errors = abs(predictions - test_labels)\n",
        "# Print out the mean absolute error (mae)\n",
        "print('Mean Absolute Error:', round(np.mean(errors), 2), 'degrees.')"
      ],
      "execution_count": 0,
      "outputs": [
        {
          "output_type": "stream",
          "text": [
            "Mean Absolute Error: 0.38 degrees.\n"
          ],
          "name": "stdout"
        }
      ]
    },
    {
      "metadata": {
        "id": "PFHEkaUFUVRb",
        "colab_type": "text"
      },
      "cell_type": "markdown",
      "source": [
        "### Prediction Accuracy for Prices"
      ]
    },
    {
      "metadata": {
        "id": "n9HKWBPgBziQ",
        "colab_type": "code",
        "outputId": "db47ee45-f9a0-4659-aa6c-8aad792be012",
        "colab": {
          "base_uri": "https://localhost:8080/",
          "height": 35
        }
      },
      "cell_type": "code",
      "source": [
        "# Calculate mean absolute percentage error (MAPE)\n",
        "mape = 100 * (errors / test_labels)\n",
        "# Calculate and display accuracy\n",
        "accuracy = 100 - np.mean(mape)\n",
        "print('Accuracy:', round(accuracy, 2), '%.')"
      ],
      "execution_count": 5,
      "outputs": [
        {
          "output_type": "stream",
          "text": [
            "Accuracy: 92.79 %.\n"
          ],
          "name": "stdout"
        }
      ]
    },
    {
      "metadata": {
        "id": "WPIXvny8B4ct",
        "colab_type": "code",
        "outputId": "494382bd-5f89-4954-e75b-7c915fb808e3",
        "colab": {
          "base_uri": "https://localhost:8080/",
          "height": 173
        }
      },
      "cell_type": "code",
      "source": [
        "# Get numerical feature importances\n",
        "importances = list(rf.feature_importances_)\n",
        "# List of tuples with variable and importance\n",
        "feature_importances = [(feature, round(importance, 2)) for feature, importance in zip(feature_list, importances)]\n",
        "# Sort the feature importances by most important first\n",
        "feature_importances = sorted(feature_importances, key = lambda x: x[1], reverse = True)\n",
        "# Print out the feature and importances \n",
        "[print('Variable: {:20} Importance: {}'.format(*pair)) for pair in feature_importances];"
      ],
      "execution_count": 0,
      "outputs": [
        {
          "output_type": "stream",
          "text": [
            "Variable: distance             Importance: 0.71\n",
            "Variable: temp                 Importance: 0.08\n",
            "Variable: pressure             Importance: 0.07\n",
            "Variable: wind                 Importance: 0.04\n",
            "Variable: hour                 Importance: 0.03\n",
            "Variable: clouds               Importance: 0.02\n",
            "Variable: humidity             Importance: 0.02\n",
            "Variable: rain                 Importance: 0.02\n",
            "Variable: day                  Importance: 0.01\n"
          ],
          "name": "stdout"
        }
      ]
    },
    {
      "metadata": {
        "id": "d5und_QlgOxk",
        "colab_type": "text"
      },
      "cell_type": "markdown",
      "source": [
        "### Lets see the prediction for surge_multiplier"
      ]
    },
    {
      "metadata": {
        "id": "xvmvwjEneG7N",
        "colab_type": "code",
        "colab": {}
      },
      "cell_type": "code",
      "source": [
        "merged_df_surge = merged_df[merged_df.surge_multiplier < 3]\n",
        "X = merged_df_surge[['day','hour','temp','clouds', 'pressure','humidity', 'wind', 'rain']]"
      ],
      "execution_count": 0,
      "outputs": []
    },
    {
      "metadata": {
        "id": "H284-adBjt4f",
        "colab_type": "code",
        "outputId": "e4f501b8-3125-4e20-ab19-2015e333f902",
        "colab": {
          "base_uri": "https://localhost:8080/",
          "height": 173
        }
      },
      "cell_type": "code",
      "source": [
        "X.count()"
      ],
      "execution_count": 0,
      "outputs": [
        {
          "output_type": "execute_result",
          "data": {
            "text/plain": [
              "day         920479\n",
              "hour        920479\n",
              "temp        920479\n",
              "clouds      920479\n",
              "pressure    920479\n",
              "humidity    920479\n",
              "wind        920479\n",
              "rain        920479\n",
              "dtype: int64"
            ]
          },
          "metadata": {
            "tags": []
          },
          "execution_count": 19
        }
      ]
    },
    {
      "metadata": {
        "id": "ljsFXQqDgorv",
        "colab_type": "code",
        "colab": {}
      },
      "cell_type": "code",
      "source": [
        "features = pd.get_dummies(X)"
      ],
      "execution_count": 0,
      "outputs": []
    },
    {
      "metadata": {
        "id": "C_15vOgmeG3v",
        "colab_type": "code",
        "colab": {}
      },
      "cell_type": "code",
      "source": [
        "\n",
        "y = merged_df_surge['surge_multiplier']\n",
        "from sklearn import preprocessing\n",
        "le = preprocessing.LabelEncoder()\n",
        "\n",
        "#ignoring multiplier of 3 as there are only 2 values in our dataset\n",
        "le.fit([1,1.25,1.5,1.75,2.,2.25,2.5])\n",
        "y = le.transform(y) "
      ],
      "execution_count": 0,
      "outputs": []
    },
    {
      "metadata": {
        "id": "Yti45m0deG02",
        "colab_type": "code",
        "colab": {}
      },
      "cell_type": "code",
      "source": [
        "# Use numpy to convert to arrays\n",
        "import numpy as np\n",
        "# Labels are the values we want to predict\n",
        "labels = np.array(y)\n",
        "\n",
        "# Saving feature names for later use\n",
        "feature_list = list(X.columns)\n",
        "# Convert to numpy array\n",
        "features = np.array(features)"
      ],
      "execution_count": 0,
      "outputs": []
    },
    {
      "metadata": {
        "id": "BGjWra2seGyU",
        "colab_type": "code",
        "colab": {}
      },
      "cell_type": "code",
      "source": [
        "# Using Skicit-learn to split data into training and testing sets\n",
        "from sklearn.model_selection import train_test_split\n",
        "# Split the data into training and testing sets\n",
        "train_features, test_features, train_labels, test_labels = train_test_split(features, labels, test_size = 0.25, random_state = 42)"
      ],
      "execution_count": 0,
      "outputs": []
    },
    {
      "metadata": {
        "id": "uBG25ZAdVQVY",
        "colab_type": "text"
      },
      "cell_type": "markdown",
      "source": [
        "*The dataset is imbalanced when it comes to surge multipliers. More than 90% of the data has a surge multiplier of 1.\n",
        "We use SMOTE for blancing the training data*"
      ]
    },
    {
      "metadata": {
        "id": "X1MSRcUouzsl",
        "colab_type": "code",
        "colab": {}
      },
      "cell_type": "code",
      "source": [
        "from imblearn.over_sampling import SMOTE\n",
        "sm = SMOTE(random_state=42)\n",
        "train_features, train_labels = sm.fit_resample(train_features, train_labels)"
      ],
      "execution_count": 0,
      "outputs": []
    },
    {
      "metadata": {
        "id": "dCUXVORoeGvQ",
        "colab_type": "code",
        "outputId": "c5a5e4d4-ae39-4688-875b-1aab3a049b3a",
        "colab": {
          "base_uri": "https://localhost:8080/",
          "height": 72
        }
      },
      "cell_type": "code",
      "source": [
        "from sklearn.ensemble import RandomForestRegressor,RandomForestClassifier\n",
        "rf = RandomForestClassifier(n_jobs=-1, random_state = 42,class_weight=\"balanced\")\n",
        "# Train the model on training data\n",
        "rf.fit(train_features, train_labels);"
      ],
      "execution_count": 0,
      "outputs": [
        {
          "output_type": "stream",
          "text": [
            "/usr/local/lib/python3.6/dist-packages/sklearn/ensemble/forest.py:246: FutureWarning: The default value of n_estimators will change from 10 in version 0.20 to 100 in 0.22.\n",
            "  \"10 in version 0.20 to 100 in 0.22.\", FutureWarning)\n"
          ],
          "name": "stderr"
        }
      ]
    },
    {
      "metadata": {
        "id": "JokhNr-leGrm",
        "colab_type": "code",
        "outputId": "3ae21832-89a8-4dff-9253-1d92de42fbb5",
        "colab": {
          "base_uri": "https://localhost:8080/",
          "height": 35
        }
      },
      "cell_type": "code",
      "source": [
        "# Use the forest's predict method on the test data\n",
        "predictions = rf.predict(test_features)\n",
        "# Calculate the absolute errors\n",
        "errors = abs(predictions - test_labels)\n",
        "# Print out the mean absolute error (mae)\n",
        "print('Mean Absolute Error:', round(np.mean(errors), 2), 'degrees.')"
      ],
      "execution_count": 0,
      "outputs": [
        {
          "output_type": "stream",
          "text": [
            "Mean Absolute Error: 0.41 degrees.\n"
          ],
          "name": "stdout"
        }
      ]
    },
    {
      "metadata": {
        "id": "rMrzipSJVh_k",
        "colab_type": "text"
      },
      "cell_type": "markdown",
      "source": [
        "Calculating the weighted precision score(taking imbalance of the dataset in account)"
      ]
    },
    {
      "metadata": {
        "id": "05oG5NvfeGNK",
        "colab_type": "code",
        "outputId": "af6e0109-821f-4923-8e5e-e090261400b6",
        "colab": {
          "base_uri": "https://localhost:8080/",
          "height": 35
        }
      },
      "cell_type": "code",
      "source": [
        "from sklearn.metrics import precision_score, recall_score\n",
        "precision_score(test_labels, predictions, average=\"weighted\")\n"
      ],
      "execution_count": 0,
      "outputs": [
        {
          "output_type": "execute_result",
          "data": {
            "text/plain": [
              "0.9824943160843629"
            ]
          },
          "metadata": {
            "tags": []
          },
          "execution_count": 64
        }
      ]
    },
    {
      "metadata": {
        "id": "Il1fDcpK8Cb1",
        "colab_type": "code",
        "outputId": "103c746f-e8ed-4195-9d2f-cce5581688fa",
        "colab": {
          "base_uri": "https://localhost:8080/",
          "height": 35
        }
      },
      "cell_type": "code",
      "source": [
        "recall_score(test_labels, predictions, average=\"micro\")"
      ],
      "execution_count": 0,
      "outputs": [
        {
          "output_type": "execute_result",
          "data": {
            "text/plain": [
              "0.7769468103598123"
            ]
          },
          "metadata": {
            "tags": []
          },
          "execution_count": 65
        }
      ]
    },
    {
      "metadata": {
        "id": "tGLmJgkKVvDV",
        "colab_type": "text"
      },
      "cell_type": "markdown",
      "source": [
        "#### Confusion Matrix for the Surge Multiplier prediction"
      ]
    },
    {
      "metadata": {
        "id": "mDPecCHUEL5B",
        "colab_type": "code",
        "outputId": "646e638b-a791-4050-8e27-372a3fdd6ccb",
        "colab": {
          "base_uri": "https://localhost:8080/",
          "height": 263
        }
      },
      "cell_type": "code",
      "source": [
        "# Create confusion matrix\n",
        "pd.crosstab(le.inverse_transform(test_labels), le.inverse_transform(predictions),rownames=['Actual'],colnames=['Predicted'])"
      ],
      "execution_count": 0,
      "outputs": [
        {
          "output_type": "execute_result",
          "data": {
            "text/html": [
              "<div>\n",
              "<style scoped>\n",
              "    .dataframe tbody tr th:only-of-type {\n",
              "        vertical-align: middle;\n",
              "    }\n",
              "\n",
              "    .dataframe tbody tr th {\n",
              "        vertical-align: top;\n",
              "    }\n",
              "\n",
              "    .dataframe thead th {\n",
              "        text-align: right;\n",
              "    }\n",
              "</style>\n",
              "<table border=\"1\" class=\"dataframe\">\n",
              "  <thead>\n",
              "    <tr style=\"text-align: right;\">\n",
              "      <th>Predicted</th>\n",
              "      <th>1.0</th>\n",
              "      <th>1.25</th>\n",
              "      <th>1.5</th>\n",
              "      <th>1.75</th>\n",
              "      <th>2.0</th>\n",
              "      <th>2.5</th>\n",
              "    </tr>\n",
              "    <tr>\n",
              "      <th>Actual</th>\n",
              "      <th></th>\n",
              "      <th></th>\n",
              "      <th></th>\n",
              "      <th></th>\n",
              "      <th></th>\n",
              "      <th></th>\n",
              "    </tr>\n",
              "  </thead>\n",
              "  <tbody>\n",
              "    <tr>\n",
              "      <th>1.00</th>\n",
              "      <td>176822</td>\n",
              "      <td>25868</td>\n",
              "      <td>10898</td>\n",
              "      <td>6693</td>\n",
              "      <td>5436</td>\n",
              "      <td>407</td>\n",
              "    </tr>\n",
              "    <tr>\n",
              "      <th>1.25</th>\n",
              "      <td>141</td>\n",
              "      <td>1354</td>\n",
              "      <td>439</td>\n",
              "      <td>403</td>\n",
              "      <td>222</td>\n",
              "      <td>28</td>\n",
              "    </tr>\n",
              "    <tr>\n",
              "      <th>1.50</th>\n",
              "      <td>5</td>\n",
              "      <td>188</td>\n",
              "      <td>333</td>\n",
              "      <td>200</td>\n",
              "      <td>110</td>\n",
              "      <td>11</td>\n",
              "    </tr>\n",
              "    <tr>\n",
              "      <th>1.75</th>\n",
              "      <td>0</td>\n",
              "      <td>37</td>\n",
              "      <td>44</td>\n",
              "      <td>143</td>\n",
              "      <td>40</td>\n",
              "      <td>8</td>\n",
              "    </tr>\n",
              "    <tr>\n",
              "      <th>2.00</th>\n",
              "      <td>6</td>\n",
              "      <td>11</td>\n",
              "      <td>35</td>\n",
              "      <td>43</td>\n",
              "      <td>133</td>\n",
              "      <td>46</td>\n",
              "    </tr>\n",
              "    <tr>\n",
              "      <th>2.50</th>\n",
              "      <td>1</td>\n",
              "      <td>1</td>\n",
              "      <td>3</td>\n",
              "      <td>2</td>\n",
              "      <td>3</td>\n",
              "      <td>6</td>\n",
              "    </tr>\n",
              "  </tbody>\n",
              "</table>\n",
              "</div>"
            ],
            "text/plain": [
              "Predicted    1.00   1.25   1.50  1.75  2.00  2.50\n",
              "Actual                                           \n",
              "1.00       176822  25868  10898  6693  5436   407\n",
              "1.25          141   1354    439   403   222    28\n",
              "1.50            5    188    333   200   110    11\n",
              "1.75            0     37     44   143    40     8\n",
              "2.00            6     11     35    43   133    46\n",
              "2.50            1      1      3     2     3     6"
            ]
          },
          "metadata": {
            "tags": []
          },
          "execution_count": 40
        }
      ]
    },
    {
      "metadata": {
        "id": "EWhTEgNiqcEF",
        "colab_type": "code",
        "outputId": "5d98e0b1-5b53-43c6-dbbc-24151098a119",
        "colab": {
          "base_uri": "https://localhost:8080/",
          "height": 156
        }
      },
      "cell_type": "code",
      "source": [
        "# Get numerical feature importances\n",
        "importances = list(rf.feature_importances_)\n",
        "# List of tuples with variable and importance\n",
        "feature_importances = [(feature, round(importance, 2)) for feature, importance in zip(feature_list, importances)]\n",
        "# Sort the feature importances by most important first\n",
        "feature_importances = sorted(feature_importances, key = lambda x: x[1], reverse = True)\n",
        "# Print out the feature and importances \n",
        "[print('Variable: {:20} Importance: {}'.format(*pair)) for pair in feature_importances];"
      ],
      "execution_count": 0,
      "outputs": [
        {
          "output_type": "stream",
          "text": [
            "Variable: temp                 Importance: 0.19\n",
            "Variable: pressure             Importance: 0.18\n",
            "Variable: wind                 Importance: 0.18\n",
            "Variable: humidity             Importance: 0.14\n",
            "Variable: clouds               Importance: 0.09\n",
            "Variable: hour                 Importance: 0.08\n",
            "Variable: rain                 Importance: 0.07\n",
            "Variable: day                  Importance: 0.06\n"
          ],
          "name": "stdout"
        }
      ]
    },
    {
      "metadata": {
        "id": "W4-fgOdiGZKL",
        "colab_type": "code",
        "colab": {}
      },
      "cell_type": "code",
      "source": [
        "from sklearn.metrics import accuracy_score"
      ],
      "execution_count": 0,
      "outputs": []
    },
    {
      "metadata": {
        "id": "6mnTQM6KV3Ws",
        "colab_type": "text"
      },
      "cell_type": "markdown",
      "source": [
        "#### Accuracy of the Classifier"
      ]
    },
    {
      "metadata": {
        "id": "TG5afXlZLQ9Y",
        "colab_type": "code",
        "outputId": "7b594da1-c2e3-485d-fc43-d0051c8d9479",
        "colab": {
          "base_uri": "https://localhost:8080/",
          "height": 35
        }
      },
      "cell_type": "code",
      "source": [
        "accuracy_score(test_labels, predictions)"
      ],
      "execution_count": 0,
      "outputs": [
        {
          "output_type": "execute_result",
          "data": {
            "text/plain": [
              "0.7769468103598123"
            ]
          },
          "metadata": {
            "tags": []
          },
          "execution_count": 35
        }
      ]
    },
    {
      "metadata": {
        "id": "P3So7SAWotJ-",
        "colab_type": "code",
        "colab": {}
      },
      "cell_type": "code",
      "source": [
        ""
      ],
      "execution_count": 0,
      "outputs": []
    }
  ]
}